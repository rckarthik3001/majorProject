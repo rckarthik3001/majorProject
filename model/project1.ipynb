{
 "cells": [
  {
   "cell_type": "code",
   "execution_count": null,
   "id": "ba1ee671",
   "metadata": {
    "scrolled": false
   },
   "outputs": [],
   "source": [
    "import numpy as np\n",
    "import pandas as pd\n",
    "import pandas as pd\n",
    "import matplotlib.pyplot as plt\n",
    "from matplotlib import rcParams\n",
    "from matplotlib.cm import rainbow\n",
    "\n",
    "data_clv = pd.read_csv(\"./datasets/processed.cleveland.data.csv\")\n",
    "data_clv\n"
   ]
  },
  {
   "cell_type": "code",
   "execution_count": null,
   "id": "a931c9dd",
   "metadata": {},
   "outputs": [],
   "source": [
    "for col in data_clv.columns:\n",
    "    print(data_clv[col].unique())"
   ]
  },
  {
   "cell_type": "code",
   "execution_count": null,
   "id": "7cfbd92f",
   "metadata": {},
   "outputs": [],
   "source": [
    "data_clv.drop(['ca','thal'],axis = 1,inplace=True)\n",
    "data_clv.head()\n"
   ]
  },
  {
   "cell_type": "code",
   "execution_count": null,
   "id": "6cbfd913",
   "metadata": {},
   "outputs": [],
   "source": [
    "print(data_clv.columns)\n",
    "data_clv[\"num\"]=data_clv[\"num\"].apply(lambda x:1 if x > 1 else 0)"
   ]
  },
  {
   "cell_type": "code",
   "execution_count": null,
   "id": "865e3a7b",
   "metadata": {},
   "outputs": [],
   "source": [
    "data_clv\n",
    "data_clv[\"num\"].max()"
   ]
  },
  {
   "cell_type": "code",
   "execution_count": null,
   "id": "c427fcb6",
   "metadata": {},
   "outputs": [],
   "source": [
    "data_hung = pd.read_csv(\"datasets/processed.hungarian.data.csv\",delimiter=\",\")\n",
    "print(data_hung.columns)\n",
    "data_hung.drop(['ca','thal'],axis = 1,inplace=True)\n",
    "data_hung.head()"
   ]
  },
  {
   "cell_type": "code",
   "execution_count": null,
   "id": "90b9d6e1",
   "metadata": {},
   "outputs": [],
   "source": [
    "n = (data_hung[\"slope\"] == \"?\").sum()\n",
    "print(n)"
   ]
  },
  {
   "cell_type": "code",
   "execution_count": null,
   "id": "e4912196",
   "metadata": {},
   "outputs": [],
   "source": [
    "! pip install scikit-learn"
   ]
  },
  {
   "cell_type": "code",
   "execution_count": null,
   "id": "370f2d9e",
   "metadata": {},
   "outputs": [],
   "source": [
    "\n",
    "from sklearn.ensemble import RandomForestClassifier\n",
    "from sklearn.model_selection import train_test_split\n",
    "\n",
    "# Convert \"?\" to NaN\n",
    "data_hung[\"slope\"].replace(\"?\", np.nan, inplace=True)\n",
    "data_hung"
   ]
  },
  {
   "cell_type": "code",
   "execution_count": null,
   "id": "b5dcb422",
   "metadata": {
    "scrolled": true
   },
   "outputs": [],
   "source": [
    "data_hung = data_hung.apply(pd.to_numeric, errors='coerce')  # Convert everything to numeric, force errors to NaN\n",
    "data_hung"
   ]
  },
  {
   "cell_type": "code",
   "execution_count": null,
   "id": "3c178153",
   "metadata": {},
   "outputs": [],
   "source": [
    "# Separate known and unknown slope values\n",
    "\n",
    "data_known = data_hung[data_hung[\"slope\"].notna()]\n",
    "data_missing = data_hung[data_hung[\"slope\"].isna()]\n"
   ]
  },
  {
   "cell_type": "code",
   "execution_count": null,
   "id": "a6334861",
   "metadata": {},
   "outputs": [],
   "source": [
    "# Prepare data for training (excluding slope)\n",
    "X = data_known.drop(columns=[\"slope\", \"num\"])\n",
    "y = data_known[\"slope\"]\n"
   ]
  },
  {
   "cell_type": "code",
   "execution_count": null,
   "id": "c7586f80",
   "metadata": {
    "scrolled": true
   },
   "outputs": [],
   "source": [
    "# Train a RandomForest model\n",
    "X_train, X_test, y_train, y_test = train_test_split(X, y, test_size=0.2, random_state=42)\n",
    "\n"
   ]
  },
  {
   "cell_type": "code",
   "execution_count": null,
   "id": "6ba9a939",
   "metadata": {},
   "outputs": [],
   "source": [
    "from sklearn.ensemble import HistGradientBoostingClassifier\n",
    "\n",
    "model = HistGradientBoostingClassifier()\n",
    "model.fit(X_train, y_train)\n"
   ]
  },
  {
   "cell_type": "code",
   "execution_count": null,
   "id": "e3d0c6ad",
   "metadata": {},
   "outputs": [],
   "source": [
    "data_missing[\"slope\"] = model.predict(data_missing.drop(columns=[\"slope\", \"num\"]))"
   ]
  },
  {
   "cell_type": "code",
   "execution_count": null,
   "id": "c24cbefb",
   "metadata": {},
   "outputs": [],
   "source": [
    "data_hung = pd.concat([data_known, data_missing])\n",
    "data_hung"
   ]
  },
  {
   "cell_type": "code",
   "execution_count": null,
   "id": "ee94446d",
   "metadata": {},
   "outputs": [],
   "source": [
    "data_hung.sort_index()"
   ]
  },
  {
   "cell_type": "code",
   "execution_count": null,
   "id": "fdf3ddef",
   "metadata": {
    "scrolled": true
   },
   "outputs": [],
   "source": [
    "print(data_clv.isnull().sum())"
   ]
  },
  {
   "cell_type": "code",
   "execution_count": null,
   "id": "98896133",
   "metadata": {},
   "outputs": [],
   "source": [
    "print(data_hung.isnull().sum())"
   ]
  },
  {
   "cell_type": "code",
   "execution_count": null,
   "id": "4c21b6e1",
   "metadata": {
    "scrolled": false
   },
   "outputs": [],
   "source": [
    "data_hung[\"chol\"].fillna(data_hung[\"chol\"].median(), inplace=True)\n",
    "data_hung[\"fbs\"].fillna(data_hung[\"fbs\"].mode()[0], inplace=True)\n",
    "data_hung.dropna(subset=[\"trestbps\", \"restecg\",\"thalach\",\"exang\"], inplace=True)\n",
    "data_hung.sort_index()"
   ]
  },
  {
   "cell_type": "code",
   "execution_count": null,
   "id": "86f53ed2",
   "metadata": {
    "scrolled": true
   },
   "outputs": [],
   "source": [
    "print(data_hung.isnull().sum())"
   ]
  },
  {
   "cell_type": "code",
   "execution_count": null,
   "id": "024f0b8f",
   "metadata": {},
   "outputs": [],
   "source": [
    "data_clv.columns = data_hung.columns"
   ]
  },
  {
   "cell_type": "code",
   "execution_count": null,
   "id": "204685f3",
   "metadata": {},
   "outputs": [],
   "source": [
    "combined_data = pd.concat([data_clv, data_hung], ignore_index=True)\n",
    "combined_data"
   ]
  },
  {
   "cell_type": "code",
   "execution_count": null,
   "id": "babea0e2",
   "metadata": {},
   "outputs": [],
   "source": [
    "combined_data.isnull().sum()"
   ]
  },
  {
   "cell_type": "code",
   "execution_count": null,
   "id": "662c2fa1",
   "metadata": {},
   "outputs": [],
   "source": [
    "combined_data.to_csv(\"datasets/combined_heart_data.csv\", index=False)\n"
   ]
  },
  {
   "cell_type": "code",
   "execution_count": null,
   "id": "e7b6814d",
   "metadata": {},
   "outputs": [],
   "source": [
    "combined_data['num'].max()"
   ]
  },
  {
   "cell_type": "code",
   "execution_count": null,
   "id": "8b6fe4ae",
   "metadata": {},
   "outputs": [],
   "source": []
  },
  {
   "cell_type": "code",
   "execution_count": null,
   "id": "10e81507",
   "metadata": {},
   "outputs": [],
   "source": []
  },
  {
   "cell_type": "code",
   "execution_count": null,
   "id": "dcc686bc",
   "metadata": {},
   "outputs": [],
   "source": []
  }
 ],
 "metadata": {
  "kernelspec": {
   "display_name": "venv",
   "language": "python",
   "name": "python3"
  },
  "language_info": {
   "codemirror_mode": {
    "name": "ipython",
    "version": 3
   },
   "file_extension": ".py",
   "mimetype": "text/x-python",
   "name": "python",
   "nbconvert_exporter": "python",
   "pygments_lexer": "ipython3",
   "version": "3.10.8"
  }
 },
 "nbformat": 4,
 "nbformat_minor": 5
}
